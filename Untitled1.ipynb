{
 "cells": [
  {
   "cell_type": "code",
   "execution_count": 2,
   "id": "3aeb776a-a8cd-49be-8677-ee9ab84c8f29",
   "metadata": {},
   "outputs": [
    {
     "name": "stdin",
     "output_type": "stream",
     "text": [
      "enter length of list 60\n"
     ]
    },
    {
     "name": "stdout",
     "output_type": "stream",
     "text": [
      "enter the email addresses\n"
     ]
    },
    {
     "name": "stdin",
     "output_type": "stream",
     "text": [
      " turboslayer@gmail.com\n",
      " someone@outlook.com\n",
      " crashtv@gov.in\n",
      " blue_defender@gmail.com\n",
      " logan@yahoo.com\n",
      " ironmerc@gov.in\n",
      " steeltitan@outlook.com\n",
      " stealthedefender@yahoo.com\n",
      " blaze_assault@gov.in\n",
      " venom_fate@yahoo.com\n",
      " dark_side@yahoo.com\n",
      " fataldestiny@yahoo.com\n",
      " ultimatebeast@outlook.com\n",
      " masked_titan@gmail.com\n",
      " frozen_gunner@yahoo.com\n",
      " username_copied@gov.in\n",
      " whos_ur_buddy@outlook.com\n",
      " unfinished_sentenc@gov.in\n",
      " all_gone@gov.in \n",
      " something@gmail.com\n",
      " president@gmail.com\n",
      " tinfoilhat@gmail.com\n",
      " anonymouse@yahoo.com\n",
      " definitely_not_an_athlete@outlook.com\n",
      " dropout@gov.in\n",
      " paw_friend@outlook.com\n",
      " test_name_please_ignore@gov.in\n",
      " heyyou@gov.in\n",
      " a_distraction@yahoo.com\n",
      " thegodfatherpart4@gov.in\n",
      " unfriendme@outlook.com\n",
      " doodles@gmail.com\n",
      " fluffycookie@yahoo.com\n",
      " theintolerant@gmail.com\n",
      " fourhour@yahoo.com\n",
      " toastedwithcheese@gmail.com\n",
      " futureking@yahoo.com\n",
      " coolshirtbruh@outlook.com\n",
      " kentucky@yahoo.com\n",
      " chocolate@gmail.com\n",
      " saintbroseph@yahoo.com\n",
      " just_chillin@gmail.com\n",
      " ghostface@gov.in\n",
      " bigfootisreal@yahoo.com\n",
      " newbie@yahoo.com\n",
      " alienware@outlook.com\n",
      " chrishemsworth@outlook.com\n",
      " nachocheesefries@outlook.com\n",
      " reginageorge@gov.in\n",
      " qwer@gmail.com\n",
      " q@outlook.com\n",
      " yt@gov.in\n",
      " tre@gov.in\n",
      " bigfootisreal@yahoo.com\n",
      " bigfootisreal@yahoo.com\n",
      " bigfootisreal@yahoo.com\n",
      " bigfootisreal@yahoo.com\n",
      " bigfootisreal@yahoo.com\n",
      " bigfootisreal@yahoo.com\n",
      " bigfootisreal@yahoo.com\n"
     ]
    },
    {
     "name": "stdout",
     "output_type": "stream",
     "text": [
      "not in the list\n"
     ]
    },
    {
     "name": "stdin",
     "output_type": "stream",
     "text": [
      "enter domain name  yahoo.com\n"
     ]
    },
    {
     "name": "stdout",
     "output_type": "stream",
     "text": [
      "22\n"
     ]
    }
   ],
   "source": [
    "list1=[]\n",
    "y=0\n",
    "gm=0\n",
    "o=0\n",
    "g=0\n",
    "number=int(input(\"enter length of list\"))\n",
    "print(\"enter the email addresses\")\n",
    "for i in range(number):\n",
    "    data=input()\n",
    "    record=data.split('@')[1]\n",
    "    list1.append(record)\n",
    "for i in range(number):\n",
    "    if(list1[i]=='gov.in'):\n",
    "        g=g+1\n",
    "    elif(list1[i]=='outlook.com'):\n",
    "        o=o+1\n",
    "    elif(list1[i]=='yahoo.com'):\n",
    "        y=y+1\n",
    "    elif(list1[i]=='gmail.com'):\n",
    "        gm=gm+1\n",
    "    else:\n",
    "        print(\"not in the list\")\n",
    "        \n",
    "dict={'gov.in':g,'yahoo.com':y,'outlook.com':o,'gmail.com':gm}\n",
    "check=input(\"enter domain name \")\n",
    "if(check=='gov.in'):\n",
    "        print(dict['gov.in'])\n",
    "elif(check=='outlook.com'):\n",
    "        print(dict['outlook.com'])\n",
    "elif(check=='gmail.com'):\n",
    "        print(dict['gmail.com'])\n",
    "elif(check=='yahoo.com'):\n",
    "        print(dict['yahoo.com'])\n",
    "else:\n",
    "        print(\"not in the list\")"
   ]
  },
  {
   "cell_type": "code",
   "execution_count": null,
   "id": "3110f84e-29da-4614-a917-e4c5a51302cb",
   "metadata": {},
   "outputs": [],
   "source": []
  }
 ],
 "metadata": {
  "kernelspec": {
   "display_name": "Python 3",
   "language": "python",
   "name": "python3"
  },
  "language_info": {
   "codemirror_mode": {
    "name": "ipython",
    "version": 3
   },
   "file_extension": ".py",
   "mimetype": "text/x-python",
   "name": "python",
   "nbconvert_exporter": "python",
   "pygments_lexer": "ipython3",
   "version": "3.8.8"
  }
 },
 "nbformat": 4,
 "nbformat_minor": 5
}
